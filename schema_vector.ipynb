{
 "cells": [
  {
   "cell_type": "markdown",
   "id": "e06f2a7e",
   "metadata": {},
   "source": [
    "### **In this example, we'll create a vector db based on a users/schemas views/tables of oracle database.**\n",
    " - **Retrieve all the views/tables from a oracle db user.**\n",
    " - **Create a documents list by reading those views and associated columns.**\n",
    " - **Create a vector DB over the document list using an embedding model.**\n",
    " - **Check the results by vector similarity search.**"
   ]
  },
  {
   "cell_type": "code",
   "execution_count": 111,
   "id": "09ae98f3",
   "metadata": {},
   "outputs": [],
   "source": [
    "import oracledb\n",
    "from typing import List\n",
    "from langchain.docstore.document import Document\n",
    "from langchain_community.vectorstores import FAISS\n",
    "from langchain_huggingface import HuggingFaceEmbeddings\n",
    "from pydantic import BaseModel, Field\n",
    "from langchain.chat_models import init_chat_model\n",
    "from langchain_ollama import ChatOllama\n",
    "from langchain_core.prompts import ChatPromptTemplate\n",
    "from langchain_core.messages import HumanMessage, SystemMessage\n",
    "import os\n",
    "from dotenv import load_dotenv"
   ]
  },
  {
   "cell_type": "code",
   "execution_count": 112,
   "id": "0db2a405",
   "metadata": {},
   "outputs": [
    {
     "data": {
      "text/plain": [
       "True"
      ]
     },
     "execution_count": 112,
     "metadata": {},
     "output_type": "execute_result"
    }
   ],
   "source": [
    "load_dotenv()"
   ]
  },
  {
   "cell_type": "code",
   "execution_count": 113,
   "id": "60a8e536",
   "metadata": {},
   "outputs": [],
   "source": [
    "# Best practice: create a secrete file and keep all the credentials there.\n",
    "DB_CONFIG = {\n",
    "    \"user\": 'aitest',\n",
    "    \"password\": \"aitest\",\n",
    "    \"dsn\": \"localhost:1521/orcl.amernitech.com\",\n",
    "    \"min\": 2,\n",
    "    \"max\": 5,\n",
    "    \"increment\": 1    \n",
    "}"
   ]
  },
  {
   "cell_type": "code",
   "execution_count": 114,
   "id": "b4e80326",
   "metadata": {},
   "outputs": [],
   "source": [
    "# Define the connection pool for oracle db connection.\n",
    "_pool = None\n",
    "\n",
    "def init_pool():\n",
    "    global _pool\n",
    "    if not _pool:\n",
    "        _pool = oracledb.create_pool(\n",
    "            user=DB_CONFIG[\"user\"],\n",
    "            password=DB_CONFIG[\"password\"],\n",
    "            dsn=DB_CONFIG[\"dsn\"],\n",
    "            min=DB_CONFIG[\"min\"],\n",
    "            max=DB_CONFIG[\"max\"],\n",
    "            increment=DB_CONFIG[\"increment\"],\n",
    "            getmode=oracledb.SPOOL_ATTRVAL_WAIT,\n",
    "            timeout=10\n",
    "        )\n",
    "    return _pool"
   ]
  },
  {
   "cell_type": "code",
   "execution_count": 115,
   "id": "41b37daf",
   "metadata": {},
   "outputs": [],
   "source": [
    "# Write the query to retrieve the schemas details\n",
    "schemas_query = \"SELECT table_name, column_name FROM user_tab_columns where table_name not in ('VW_USERINFO','VW_USER_MENU','VW_USER_PROGRAM','USERS','ADD_EXAMPLES','NEW_VIEW_ADD') ORDER BY table_name, column_id\""
   ]
  },
  {
   "cell_type": "code",
   "execution_count": 116,
   "id": "2bfc2f15",
   "metadata": {},
   "outputs": [],
   "source": [
    "def fetch_schema_docs() -> List[Document]:\n",
    "    pool = init_pool()\n",
    "    with pool.acquire() as conn:\n",
    "        with conn.cursor() as cursor:\n",
    "            cursor.execute(schemas_query)\n",
    "            rows = cursor.fetchall()\n",
    "            grouped = {}\n",
    "            for table, column in rows:\n",
    "                grouped.setdefault(table, []).append(column)\n",
    "            return [Document(page_content=f\"Table {t}: {', '.join(cols)}\") for t, cols in grouped.items()]"
   ]
  },
  {
   "cell_type": "code",
   "execution_count": 117,
   "id": "7efcc11f",
   "metadata": {},
   "outputs": [
    {
     "data": {
      "text/plain": [
       "[Document(metadata={}, page_content='Table VW_EMPLOYEE_OUTSTANDING: COMPCODE, EMPLOYEE_CODE, EMPLOYEE_NAME, DLC_OUTSTANDING, GEN_OUTSTANDING, TOTAL_OUTSTANDING'),\n",
       " Document(metadata={}, page_content='Table VW_FM_NRTDETAILS: COMPCODE, NRTNUMBR, TAXICODE, VEHNUMBR, REGNNUMB, REASONCD, NRSTDATE, NRENDATE, DRIVERID, CLOSE_STATUS, OPEN_STATUS'),\n",
       " Document(metadata={}, page_content='Table VW_OUTSOURCE_WORKORDER: COMPCODE, DOCNUMBR, DOCTDATE, STATUSCD, Status_Desc, OPEN_STATUS, CLOSE_STATUS, TRANSFER_STATUS'),\n",
       " Document(metadata={}, page_content='Table VW_TAXI_COLLECTION: COMPCODE, CASHIER_NAME, PAID_DATE, DRIVER_ID, LOCATION_NAME, AMOUNT, TAXI_REVENUE, CALLTRIP, SURCHARGE_ITC, SURCHARGE_DRIVER, CREDIT_CARD_AMOUNT, ACTUAL_REVENUE, DRIVER_INCOME, SHFTCODE')]"
      ]
     },
     "execution_count": 117,
     "metadata": {},
     "output_type": "execute_result"
    }
   ],
   "source": [
    "fetch_schema_docs()"
   ]
  },
  {
   "cell_type": "code",
   "execution_count": 118,
   "id": "2ccc2c76",
   "metadata": {},
   "outputs": [],
   "source": [
    "# Define the embedding model\n",
    "def get_embedding_model():\n",
    "    return HuggingFaceEmbeddings(model_name=\"sentence-transformers/all-MiniLM-L6-v2\",model_kwargs={'device': 'cpu'})"
   ]
  },
  {
   "cell_type": "code",
   "execution_count": 119,
   "id": "9ac6e9e5",
   "metadata": {},
   "outputs": [],
   "source": [
    "# Set the vector db path\n",
    "VECTOR_DB_PATH = \"data/schema_store.faiss\""
   ]
  },
  {
   "cell_type": "code",
   "execution_count": 120,
   "id": "ad3d82b1",
   "metadata": {},
   "outputs": [],
   "source": [
    "# Define the function to build or load the vector db\n",
    "def build_or_load_schema_vectordb():\n",
    "    if not os.path.exists(VECTOR_DB_PATH):\n",
    "        schema_docs = fetch_schema_docs()\n",
    "        db = FAISS.from_documents(schema_docs, get_embedding_model())\n",
    "        db.save_local(VECTOR_DB_PATH)\n",
    "        return db\n",
    "    else:\n",
    "        return FAISS.load_local(VECTOR_DB_PATH, get_embedding_model(), allow_dangerous_deserialization=True)"
   ]
  },
  {
   "cell_type": "code",
   "execution_count": 121,
   "id": "63472ed2",
   "metadata": {},
   "outputs": [],
   "source": [
    "# Load vector db\n",
    "schema_vectorstore = build_or_load_schema_vectordb()"
   ]
  },
  {
   "cell_type": "code",
   "execution_count": 122,
   "id": "198f14a5",
   "metadata": {},
   "outputs": [],
   "source": [
    "#user_input = \"show the total open NRT\"\n",
    "user_input = \"show the total taxi revenue\"\n",
    "#user_input = \"show the total open outsource work orders\""
   ]
  },
  {
   "cell_type": "code",
   "execution_count": 123,
   "id": "7a904316",
   "metadata": {},
   "outputs": [],
   "source": [
    "schema_docs = schema_vectorstore.similarity_search(user_input, k=3)\n",
    "schema_hint = \"\\n\".join([doc.page_content for doc in schema_docs])"
   ]
  },
  {
   "cell_type": "code",
   "execution_count": 124,
   "id": "dabbb2e1",
   "metadata": {},
   "outputs": [
    {
     "data": {
      "text/plain": [
       "[Document(id='9b0c378d-f49e-46e1-8a96-8dfaef2f88e5', metadata={}, page_content='Table VW_TAXI_COLLECTION (It contains the taxi or driver collecton and driver revenue information as date wise.\\nSo, for a specific range we can get the revenue.): COMPCODE, CASHIER_NAME, PAID_DATE, DRIVER_ID, LOCATION_NAME, AMOUNT, TAXI_REVENUE, CALLTRIP, SURCHARGE_ITC, SURCHARGE_DRIVER, CREDIT_CARD_AMOUNT, ACTUAL_REVENUE, DRIVER_INCOME, SHFTCODE'),\n",
       " Document(id='c5a84ebf-6e88-463d-b6af-6550ebdb137f', metadata={}, page_content=\"Table VW_FM_NRTDETAILS (It contains all the vehicle/taxi nrt details. \\nSome of columns are flag based, like below.\\nopen_status = 'Y': gives only opened nrt list.\\nclose_status = 'Y': gives only closed nrt list.  \\n): COMPCODE, NRTNUMBR, TAXICODE, VEHNUMBR, REGNNUMB, REASONCD, NRSTDATE, NRENDATE, DRIVERID, CLOSE_STATUS (close_status = 'Y': gives the close nrt list.), OPEN_STATUS (open_status = 'Y': gives the active/opened nrt list.)\"),\n",
       " Document(id='28538f99-2d1e-4005-b7b3-84163b8bc94c', metadata={}, page_content='Table VW_EMPLOYEE_OUTSTANDING (It contains employees or drivers payment outstanding or pending information.\\nSome columns definition as mentioned below.\\nDLC_Outstanding = Driving Licence Outstanding \\nGEN_Outstanding = General Outstanding\\nTotal_Outstanding = Total Outstanding\\n): COMPCODE, EMPLOYEE_CODE, EMPLOYEE_NAME, DLC_OUTSTANDING, GEN_OUTSTANDING, TOTAL_OUTSTANDING')]"
      ]
     },
     "execution_count": 124,
     "metadata": {},
     "output_type": "execute_result"
    }
   ],
   "source": [
    "schema_docs"
   ]
  },
  {
   "cell_type": "code",
   "execution_count": 125,
   "id": "d31899dc",
   "metadata": {},
   "outputs": [
    {
     "data": {
      "text/plain": [
       "\"Table VW_TAXI_COLLECTION (It contains the taxi or driver collecton and driver revenue information as date wise.\\nSo, for a specific range we can get the revenue.): COMPCODE, CASHIER_NAME, PAID_DATE, DRIVER_ID, LOCATION_NAME, AMOUNT, TAXI_REVENUE, CALLTRIP, SURCHARGE_ITC, SURCHARGE_DRIVER, CREDIT_CARD_AMOUNT, ACTUAL_REVENUE, DRIVER_INCOME, SHFTCODE\\nTable VW_FM_NRTDETAILS (It contains all the vehicle/taxi nrt details. \\nSome of columns are flag based, like below.\\nopen_status = 'Y': gives only opened nrt list.\\nclose_status = 'Y': gives only closed nrt list.  \\n): COMPCODE, NRTNUMBR, TAXICODE, VEHNUMBR, REGNNUMB, REASONCD, NRSTDATE, NRENDATE, DRIVERID, CLOSE_STATUS (close_status = 'Y': gives the close nrt list.), OPEN_STATUS (open_status = 'Y': gives the active/opened nrt list.)\\nTable VW_EMPLOYEE_OUTSTANDING (It contains employees or drivers payment outstanding or pending information.\\nSome columns definition as mentioned below.\\nDLC_Outstanding = Driving Licence Outstanding \\nGEN_Outstanding = General Outstanding\\nTotal_Outstanding = Total Outstanding\\n): COMPCODE, EMPLOYEE_CODE, EMPLOYEE_NAME, DLC_OUTSTANDING, GEN_OUTSTANDING, TOTAL_OUTSTANDING\""
      ]
     },
     "execution_count": 125,
     "metadata": {},
     "output_type": "execute_result"
    }
   ],
   "source": [
    "schema_hint"
   ]
  },
  {
   "cell_type": "markdown",
   "id": "7b3b3c27",
   "metadata": {},
   "source": [
    "## Example-2: Adding metadata(table comments, columns comments)"
   ]
  },
  {
   "cell_type": "code",
   "execution_count": 127,
   "id": "7d2c512a",
   "metadata": {},
   "outputs": [],
   "source": [
    "# Write the query to retrieve the schemas details along with table and columns comments\n",
    "schemas_query = \"SELECT nvl2(vcoment.comments,vcoment.table_name||' ('||vcoment.comments||')',vcoment.table_name) table_name,nvl2(vcc.comments,vcc.column_name||' ('||vcc.comments||')',vcc.column_name) column_name FROM user_tab_comments vcoment, user_tab_columns vcol, user_col_comments vcc Where vcoment.table_type = 'VIEW' And vcoment.table_name not in ('ADD_EXAMPLES','NEW_VIEW_ADD','USERS','VW_USERINFO','VW_USER_MENU','VW_USER_PROGRAM') And vcoment.table_name = vcol.table_name And vcol.table_name = vcc.table_name And vcol.column_name = vcc.column_name Order by vcoment.table_name, vcol.column_id\""
   ]
  },
  {
   "cell_type": "code",
   "execution_count": 128,
   "id": "1bd5af39",
   "metadata": {},
   "outputs": [],
   "source": [
    "def fetch_schema_docs_metadata() -> List[Document]:\n",
    "    pool = init_pool()\n",
    "    with pool.acquire() as conn:\n",
    "        with conn.cursor() as cursor:\n",
    "            cursor.execute(schemas_query)\n",
    "            rows = cursor.fetchall()\n",
    "            grouped = {}\n",
    "            for table, column in rows:\n",
    "                grouped.setdefault(table, []).append(column)\n",
    "            return [Document(page_content=f\"Table {t}: {', '.join(cols)}\") for t, cols in grouped.items()]"
   ]
  },
  {
   "cell_type": "code",
   "execution_count": 129,
   "id": "a84f161a",
   "metadata": {},
   "outputs": [
    {
     "data": {
      "text/plain": [
       "[Document(metadata={}, page_content='Table VW_EMPLOYEE_OUTSTANDING (It contains employees or drivers payment outstanding or pending information.\\nSome columns definition as mentioned below.\\nDLC_Outstanding = Driving Licence Outstanding \\nGEN_Outstanding = General Outstanding\\nTotal_Outstanding = Total Outstanding\\n): COMPCODE, EMPLOYEE_CODE, EMPLOYEE_NAME, DLC_OUTSTANDING, GEN_OUTSTANDING, TOTAL_OUTSTANDING'),\n",
       " Document(metadata={}, page_content=\"Table VW_FM_NRTDETAILS (It contains all the vehicle/taxi nrt details. \\nSome of columns are flag based, like below.\\nopen_status = 'Y': gives only opened nrt list.\\nclose_status = 'Y': gives only closed nrt list.  \\n): COMPCODE, NRTNUMBR, TAXICODE, VEHNUMBR, REGNNUMB, REASONCD, NRSTDATE, NRENDATE, DRIVERID, CLOSE_STATUS (close_status = 'Y': gives the close nrt list.), OPEN_STATUS (open_status = 'Y': gives the active/opened nrt list.)\"),\n",
       " Document(metadata={}, page_content=\"Table VW_OUTSOURCE_WORKORDER (It contains all the outsource workorders. Like opened, closed, and transferred workorders list.\\nSome of columns are flag based, like below.\\nOPEN_status = 'Y': gives only opened workorders list. \\nclose_status = 'Y': gives only closed workorders list.\\nTransfer_status = 'Y': gives only transferred workorders list.\\n): COMPCODE, DOCNUMBR, DOCTDATE, STATUSCD, Status_Desc, OPEN_STATUS (open_status = 'Y': gives the opened outsource workoders list.), CLOSE_STATUS (close_status = 'Y': gives the closed outsource workoders list.), TRANSFER_STATUS (transfer_status = 'Y': gives the transferred outsource workoders list.)\"),\n",
       " Document(metadata={}, page_content='Table VW_TAXI_COLLECTION (It contains the taxi or driver collecton and driver revenue information as date wise.\\nSo, for a specific range we can get the revenue.): COMPCODE, CASHIER_NAME, PAID_DATE, DRIVER_ID, LOCATION_NAME, AMOUNT, TAXI_REVENUE, CALLTRIP, SURCHARGE_ITC, SURCHARGE_DRIVER, CREDIT_CARD_AMOUNT, ACTUAL_REVENUE, DRIVER_INCOME, SHFTCODE')]"
      ]
     },
     "execution_count": 129,
     "metadata": {},
     "output_type": "execute_result"
    }
   ],
   "source": [
    "fetch_schema_docs_metadata()"
   ]
  },
  {
   "cell_type": "code",
   "execution_count": 130,
   "id": "b23f8595",
   "metadata": {},
   "outputs": [],
   "source": [
    "# Define the function to build or load the vector db\n",
    "def build_or_load_schema_vectordb():\n",
    "    if not os.path.exists(VECTOR_DB_PATH):\n",
    "        schema_docs = fetch_schema_docs_metadata()\n",
    "        db = FAISS.from_documents(schema_docs, get_embedding_model())\n",
    "        db.save_local(VECTOR_DB_PATH)\n",
    "        return db\n",
    "    else:\n",
    "        return FAISS.load_local(VECTOR_DB_PATH, get_embedding_model(), allow_dangerous_deserialization=True)"
   ]
  },
  {
   "cell_type": "code",
   "execution_count": 131,
   "id": "59fd666e",
   "metadata": {},
   "outputs": [],
   "source": [
    "# Load Vector DB\n",
    "schema_vectorstore = build_or_load_schema_vectordb()"
   ]
  },
  {
   "cell_type": "code",
   "execution_count": 132,
   "id": "c9e103b3",
   "metadata": {},
   "outputs": [],
   "source": [
    "#user_input = \"show the total open NRT\"\n",
    "user_input = \"show the total taxi revenue\"\n",
    "#user_input = \"show the total open outsource work orders\""
   ]
  },
  {
   "cell_type": "code",
   "execution_count": 133,
   "id": "6cd44885",
   "metadata": {},
   "outputs": [],
   "source": [
    "schema_docs = schema_vectorstore.similarity_search(user_input, k=3)\n",
    "schema_hint = \"\\n\".join([doc.page_content for doc in schema_docs])"
   ]
  },
  {
   "cell_type": "code",
   "execution_count": 134,
   "id": "3bdc7287",
   "metadata": {},
   "outputs": [
    {
     "data": {
      "text/plain": [
       "[Document(id='9b0c378d-f49e-46e1-8a96-8dfaef2f88e5', metadata={}, page_content='Table VW_TAXI_COLLECTION (It contains the taxi or driver collecton and driver revenue information as date wise.\\nSo, for a specific range we can get the revenue.): COMPCODE, CASHIER_NAME, PAID_DATE, DRIVER_ID, LOCATION_NAME, AMOUNT, TAXI_REVENUE, CALLTRIP, SURCHARGE_ITC, SURCHARGE_DRIVER, CREDIT_CARD_AMOUNT, ACTUAL_REVENUE, DRIVER_INCOME, SHFTCODE'),\n",
       " Document(id='c5a84ebf-6e88-463d-b6af-6550ebdb137f', metadata={}, page_content=\"Table VW_FM_NRTDETAILS (It contains all the vehicle/taxi nrt details. \\nSome of columns are flag based, like below.\\nopen_status = 'Y': gives only opened nrt list.\\nclose_status = 'Y': gives only closed nrt list.  \\n): COMPCODE, NRTNUMBR, TAXICODE, VEHNUMBR, REGNNUMB, REASONCD, NRSTDATE, NRENDATE, DRIVERID, CLOSE_STATUS (close_status = 'Y': gives the close nrt list.), OPEN_STATUS (open_status = 'Y': gives the active/opened nrt list.)\"),\n",
       " Document(id='28538f99-2d1e-4005-b7b3-84163b8bc94c', metadata={}, page_content='Table VW_EMPLOYEE_OUTSTANDING (It contains employees or drivers payment outstanding or pending information.\\nSome columns definition as mentioned below.\\nDLC_Outstanding = Driving Licence Outstanding \\nGEN_Outstanding = General Outstanding\\nTotal_Outstanding = Total Outstanding\\n): COMPCODE, EMPLOYEE_CODE, EMPLOYEE_NAME, DLC_OUTSTANDING, GEN_OUTSTANDING, TOTAL_OUTSTANDING')]"
      ]
     },
     "execution_count": 134,
     "metadata": {},
     "output_type": "execute_result"
    }
   ],
   "source": [
    "schema_docs"
   ]
  },
  {
   "cell_type": "code",
   "execution_count": 135,
   "id": "96807129",
   "metadata": {},
   "outputs": [
    {
     "name": "stdout",
     "output_type": "stream",
     "text": [
      "Table VW_TAXI_COLLECTION (It contains the taxi or driver collecton and driver revenue information as date wise.\n",
      "So, for a specific range we can get the revenue.): COMPCODE, CASHIER_NAME, PAID_DATE, DRIVER_ID, LOCATION_NAME, AMOUNT, TAXI_REVENUE, CALLTRIP, SURCHARGE_ITC, SURCHARGE_DRIVER, CREDIT_CARD_AMOUNT, ACTUAL_REVENUE, DRIVER_INCOME, SHFTCODE\n",
      "Table VW_FM_NRTDETAILS (It contains all the vehicle/taxi nrt details. \n",
      "Some of columns are flag based, like below.\n",
      "open_status = 'Y': gives only opened nrt list.\n",
      "close_status = 'Y': gives only closed nrt list.  \n",
      "): COMPCODE, NRTNUMBR, TAXICODE, VEHNUMBR, REGNNUMB, REASONCD, NRSTDATE, NRENDATE, DRIVERID, CLOSE_STATUS (close_status = 'Y': gives the close nrt list.), OPEN_STATUS (open_status = 'Y': gives the active/opened nrt list.)\n",
      "Table VW_EMPLOYEE_OUTSTANDING (It contains employees or drivers payment outstanding or pending information.\n",
      "Some columns definition as mentioned below.\n",
      "DLC_Outstanding = Driving Licence Outstanding \n",
      "GEN_Outstanding = General Outstanding\n",
      "Total_Outstanding = Total Outstanding\n",
      "): COMPCODE, EMPLOYEE_CODE, EMPLOYEE_NAME, DLC_OUTSTANDING, GEN_OUTSTANDING, TOTAL_OUTSTANDING\n"
     ]
    }
   ],
   "source": [
    "for doc in schema_docs:\n",
    "    print(doc.page_content, sep=\"\\n\")"
   ]
  },
  {
   "cell_type": "code",
   "execution_count": 136,
   "id": "bc2b16f7",
   "metadata": {},
   "outputs": [
    {
     "data": {
      "text/plain": [
       "\"Table VW_TAXI_COLLECTION (It contains the taxi or driver collecton and driver revenue information as date wise.\\nSo, for a specific range we can get the revenue.): COMPCODE, CASHIER_NAME, PAID_DATE, DRIVER_ID, LOCATION_NAME, AMOUNT, TAXI_REVENUE, CALLTRIP, SURCHARGE_ITC, SURCHARGE_DRIVER, CREDIT_CARD_AMOUNT, ACTUAL_REVENUE, DRIVER_INCOME, SHFTCODE\\nTable VW_FM_NRTDETAILS (It contains all the vehicle/taxi nrt details. \\nSome of columns are flag based, like below.\\nopen_status = 'Y': gives only opened nrt list.\\nclose_status = 'Y': gives only closed nrt list.  \\n): COMPCODE, NRTNUMBR, TAXICODE, VEHNUMBR, REGNNUMB, REASONCD, NRSTDATE, NRENDATE, DRIVERID, CLOSE_STATUS (close_status = 'Y': gives the close nrt list.), OPEN_STATUS (open_status = 'Y': gives the active/opened nrt list.)\\nTable VW_EMPLOYEE_OUTSTANDING (It contains employees or drivers payment outstanding or pending information.\\nSome columns definition as mentioned below.\\nDLC_Outstanding = Driving Licence Outstanding \\nGEN_Outstanding = General Outstanding\\nTotal_Outstanding = Total Outstanding\\n): COMPCODE, EMPLOYEE_CODE, EMPLOYEE_NAME, DLC_OUTSTANDING, GEN_OUTSTANDING, TOTAL_OUTSTANDING\""
      ]
     },
     "execution_count": 136,
     "metadata": {},
     "output_type": "execute_result"
    }
   ],
   "source": [
    "schema_hint"
   ]
  },
  {
   "cell_type": "markdown",
   "id": "7ecb21d8",
   "metadata": {},
   "source": [
    "#### **Addition filter to find out only the relevant schemas**\n",
    " - Vector store similarity search will produce \"k\" documents (in our example \"k\" = 3)\n",
    " - We don't need all the retrieve schemas, so We'll filter to get only relevant schemas"
   ]
  },
  {
   "cell_type": "code",
   "execution_count": 52,
   "id": "3fc05ca8",
   "metadata": {},
   "outputs": [],
   "source": [
    "class GradeDocument(BaseModel):\n",
    "    score: str = Field(\n",
    "        description=\"Document is relevant to the question? If yes -> 'Yes' if not -> 'No'\"\n",
    "    )"
   ]
  },
  {
   "cell_type": "code",
   "execution_count": 137,
   "id": "0b320cff",
   "metadata": {},
   "outputs": [],
   "source": [
    "llm = init_chat_model(\"google_genai:gemini-2.0-flash\")\n",
    "#llm = ChatOllama(model=\"qwen2.5-coder:7b\", temperature=0.1)"
   ]
  },
  {
   "cell_type": "code",
   "execution_count": 138,
   "id": "3fa4741d",
   "metadata": {},
   "outputs": [],
   "source": [
    "def retrieval_grader(user_query: str):\n",
    "    print(\"Entering retrieval_grader\")\n",
    "    system_message = SystemMessage(\n",
    "        content=\"\"\"You are a grader assessing the relevance of a retrieved document to a user question.\n",
    "Only answer with 'Yes' or 'No'.\n",
    "\n",
    "If the document contains information relevant to the user's question, respond with 'Yes'.\n",
    "Otherwise, respond with 'No'.\"\"\"\n",
    "    )\n",
    "\n",
    "    structured_llm = llm.with_structured_output(GradeDocument)\n",
    "\n",
    "    relevant_docs = []\n",
    "    for doc in schema_docs:\n",
    "        human_message = HumanMessage(\n",
    "            content=f\"User question: {user_query}\\n\\nRetrieved document:\\n{doc.page_content}\"\n",
    "        )\n",
    "        grade_prompt = ChatPromptTemplate.from_messages([system_message, human_message])\n",
    "        grader_llm = grade_prompt | structured_llm\n",
    "        result = grader_llm.invoke({})\n",
    "        print(\n",
    "            f\"Grading document: {doc.page_content[:30]}... Result: {result.score.strip()}\"\n",
    "        )\n",
    "        if result.score.strip().lower() == \"yes\":\n",
    "            relevant_docs.append(doc)\n",
    "\n",
    "    if len(relevant_docs) > 0:\n",
    "        return relevant_docs\n",
    "    else:\n",
    "        return schema_docs"
   ]
  },
  {
   "cell_type": "code",
   "execution_count": 139,
   "id": "421df80e",
   "metadata": {},
   "outputs": [
    {
     "data": {
      "text/plain": [
       "'show the total taxi revenue'"
      ]
     },
     "execution_count": 139,
     "metadata": {},
     "output_type": "execute_result"
    }
   ],
   "source": [
    "user_input"
   ]
  },
  {
   "cell_type": "code",
   "execution_count": 140,
   "id": "b5e8421e",
   "metadata": {},
   "outputs": [
    {
     "name": "stdout",
     "output_type": "stream",
     "text": [
      "Entering retrieval_grader\n",
      "Grading document: Table VW_TAXI_COLLECTION (It c... Result: Yes\n",
      "Grading document: Table VW_FM_NRTDETAILS (It con... Result: No\n",
      "Grading document: Table VW_EMPLOYEE_OUTSTANDING ... Result: No\n"
     ]
    },
    {
     "data": {
      "text/plain": [
       "[Document(id='9b0c378d-f49e-46e1-8a96-8dfaef2f88e5', metadata={}, page_content='Table VW_TAXI_COLLECTION (It contains the taxi or driver collecton and driver revenue information as date wise.\\nSo, for a specific range we can get the revenue.): COMPCODE, CASHIER_NAME, PAID_DATE, DRIVER_ID, LOCATION_NAME, AMOUNT, TAXI_REVENUE, CALLTRIP, SURCHARGE_ITC, SURCHARGE_DRIVER, CREDIT_CARD_AMOUNT, ACTUAL_REVENUE, DRIVER_INCOME, SHFTCODE')]"
      ]
     },
     "execution_count": 140,
     "metadata": {},
     "output_type": "execute_result"
    }
   ],
   "source": [
    "relevant_docs = retrieval_grader(user_input)\n",
    "relevant_docs"
   ]
  }
 ],
 "metadata": {
  "kernelspec": {
   "display_name": ".venv",
   "language": "python",
   "name": "python3"
  },
  "language_info": {
   "codemirror_mode": {
    "name": "ipython",
    "version": 3
   },
   "file_extension": ".py",
   "mimetype": "text/x-python",
   "name": "python",
   "nbconvert_exporter": "python",
   "pygments_lexer": "ipython3",
   "version": "3.12.1"
  }
 },
 "nbformat": 4,
 "nbformat_minor": 5
}
