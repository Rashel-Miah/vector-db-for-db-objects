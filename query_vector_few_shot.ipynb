{
 "cells": [
  {
   "cell_type": "markdown",
   "id": "01db85b2",
   "metadata": {},
   "source": [
    "### **In this example, we'll create a vector db based on a sample file of user questions and sql queries**\n",
    " - **Read the example file. Which is a list of user question and sql query**\n",
    " - **Create a json file on top of that esample file.**\n",
    " - **Create a documents list by reading the json file.**\n",
    " - **Create a vector DB over the document list using an embedding model.**\n",
    " - **Check the results by vector similarity search.**"
   ]
  },
  {
   "cell_type": "code",
   "execution_count": 16,
   "id": "6324e4e2",
   "metadata": {},
   "outputs": [],
   "source": [
    "from langchain.docstore.document import Document\n",
    "from langchain_community.vectorstores import FAISS\n",
    "from langchain_huggingface import HuggingFaceEmbeddings\n",
    "from langchain.prompts.example_selector.semantic_similarity import SemanticSimilarityExampleSelector\n",
    "from qna_examples import load_examples\n",
    "import os"
   ]
  },
  {
   "cell_type": "code",
   "execution_count": 2,
   "id": "d7a9bd64",
   "metadata": {},
   "outputs": [],
   "source": [
    "# Set the vector db path\n",
    "EXAMPLE_VECTOR_PATH = \"data/example_store.faiss\""
   ]
  },
  {
   "cell_type": "code",
   "execution_count": 7,
   "id": "3f07b803",
   "metadata": {},
   "outputs": [],
   "source": [
    "# Define the embedding model\n",
    "def get_embedding_model():\n",
    "    return HuggingFaceEmbeddings(model_name=\"sentence-transformers/all-MiniLM-L6-v2\",model_kwargs={'device': 'cpu'})"
   ]
  },
  {
   "cell_type": "code",
   "execution_count": 8,
   "id": "1a711c0b",
   "metadata": {},
   "outputs": [],
   "source": [
    "def build_or_load_example_selector(k=3) -> SemanticSimilarityExampleSelector:\n",
    "    model = get_embedding_model()\n",
    "    if not os.path.exists(EXAMPLE_VECTOR_PATH):\n",
    "        examples = load_examples()\n",
    "        docs = [Document(page_content=ex[\"input\"], metadata={\"query\": ex[\"query\"]}) for ex in examples]\n",
    "        db = FAISS.from_documents(docs, model)\n",
    "        db.save_local(EXAMPLE_VECTOR_PATH)\n",
    "        return db.as_retriever(search_kwargs={\"k\": k})            \n",
    "    else:\n",
    "        return FAISS.load_local(EXAMPLE_VECTOR_PATH, model, allow_dangerous_deserialization=True).as_retriever(search_kwargs={\"k\": k})\n"
   ]
  },
  {
   "cell_type": "code",
   "execution_count": 9,
   "id": "476e1abb",
   "metadata": {},
   "outputs": [
    {
     "name": "stderr",
     "output_type": "stream",
     "text": [
      "d:\\Python_Practice\\vector-db-for-db-objects\\.venv\\Lib\\site-packages\\tqdm\\auto.py:21: TqdmWarning: IProgress not found. Please update jupyter and ipywidgets. See https://ipywidgets.readthedocs.io/en/stable/user_install.html\n",
      "  from .autonotebook import tqdm as notebook_tqdm\n"
     ]
    }
   ],
   "source": [
    "example_selector = build_or_load_example_selector(k=3)"
   ]
  },
  {
   "cell_type": "code",
   "execution_count": 10,
   "id": "17ad3e38",
   "metadata": {},
   "outputs": [],
   "source": [
    "#user_input = \"show the total open NRT\"\n",
    "user_input = \"show the total taxi revenue\"\n",
    "#user_input = \"show the total open outsource work orders\""
   ]
  },
  {
   "cell_type": "code",
   "execution_count": 11,
   "id": "a1f5a8f2",
   "metadata": {},
   "outputs": [],
   "source": [
    "similar_examples = example_selector.invoke(user_input)\n",
    "few_shot = [{\"input\": d.page_content, \"query\": d.metadata[\"query\"]} for d in similar_examples]"
   ]
  },
  {
   "cell_type": "code",
   "execution_count": 12,
   "id": "26246c73",
   "metadata": {},
   "outputs": [
    {
     "data": {
      "text/plain": [
       "[Document(id='484c3609-1e74-4f99-bdf7-b9ac90e71535', metadata={'query': 'SELECT SUM(amount) FROM vw_taxi_collection'}, page_content='Show the total collection amount.'),\n",
       " Document(id='8f982393-b1bf-4cf3-bc2a-6d6f882c7b3f', metadata={'query': 'SELECT SUM(credit_card_amount) FROM vw_taxi_collection'}, page_content='Show the total cc amount.'),\n",
       " Document(id='1260c808-ba13-43cc-99c0-13a7870e688c', metadata={'query': 'SELECT Sum(Total_Outstanding) FROM vw_employee_outstanding'}, page_content='what is the total outstanding?')]"
      ]
     },
     "execution_count": 12,
     "metadata": {},
     "output_type": "execute_result"
    }
   ],
   "source": [
    "similar_examples"
   ]
  },
  {
   "cell_type": "code",
   "execution_count": 13,
   "id": "27cdb45c",
   "metadata": {},
   "outputs": [
    {
     "data": {
      "text/plain": [
       "[{'input': 'Show the total collection amount.',\n",
       "  'query': 'SELECT SUM(amount) FROM vw_taxi_collection'},\n",
       " {'input': 'Show the total cc amount.',\n",
       "  'query': 'SELECT SUM(credit_card_amount) FROM vw_taxi_collection'},\n",
       " {'input': 'what is the total outstanding?',\n",
       "  'query': 'SELECT Sum(Total_Outstanding) FROM vw_employee_outstanding'}]"
      ]
     },
     "execution_count": 13,
     "metadata": {},
     "output_type": "execute_result"
    }
   ],
   "source": [
    "few_shot"
   ]
  }
 ],
 "metadata": {
  "kernelspec": {
   "display_name": ".venv",
   "language": "python",
   "name": "python3"
  },
  "language_info": {
   "codemirror_mode": {
    "name": "ipython",
    "version": 3
   },
   "file_extension": ".py",
   "mimetype": "text/x-python",
   "name": "python",
   "nbconvert_exporter": "python",
   "pygments_lexer": "ipython3",
   "version": "3.12.1"
  }
 },
 "nbformat": 4,
 "nbformat_minor": 5
}
